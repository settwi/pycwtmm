{
 "cells": [
  {
   "cell_type": "markdown",
   "id": "b70f35d5",
   "metadata": {},
   "source": [
    "# Multifractal spectrum example\n",
    "### This notebook shows how to generate a random walk (persistent, antipersistent, or Brownian), and analyze it using the [CWTMM](https://en.wikipedia.org/wiki/Continuous_wavelet_transform) technique to compute a [multifractal](https://en.wikipedia.org/wiki/Multifractal_system) [spectrum](https://en.wikipedia.org/wiki/Singularity_spectrum)."
   ]
  },
  {
   "cell_type": "code",
   "execution_count": null,
   "id": "e506e022",
   "metadata": {},
   "outputs": [],
   "source": [
    "import numpy as np\n",
    "import matplotlib.pyplot as plt\n",
    "import matplotlib.colors as mcol\n",
    "%matplotlib inline\n",
    "%config InlineBackend.figure_format = 'retina'\n",
    "import sys\n",
    "\n",
    "# set seed --> same random numbers generated each time\n",
    "np.random.seed(25)\n",
    "\n",
    "# add the code we need to the sys.path\n",
    "sys.path.append('..')\n",
    "import modulus_maxima as mm\n",
    "import plotting as cpl"
   ]
  },
  {
   "cell_type": "markdown",
   "id": "575c39fb",
   "metadata": {},
   "source": [
    "## Generate a random walk"
   ]
  },
  {
   "cell_type": "code",
   "execution_count": null,
   "id": "caa5ec98",
   "metadata": {},
   "outputs": [],
   "source": [
    "num_steps = 500\n",
    "step_magnitudes = np.random.rand(num_steps)\n",
    "flip_probability = 0.02\n",
    "# example probabilities:\n",
    "# 0.5 = brownian motion\n",
    "# 0.1 = antipersistent\n",
    "# 0.9 = persistent\n",
    "\n",
    "last = 1\n",
    "step_directions = []\n",
    "for i in range(num_steps):\n",
    "    if np.random.rand() > flip_probability:\n",
    "        step_directions.append(-1 * last)\n",
    "    else:\n",
    "        step_directions.append(last)\n",
    "    last = step_directions[i]\n",
    "\n",
    "step_directions = np.array(step_directions)\n",
    "steps = np.cumsum(step_magnitudes * step_directions)"
   ]
  },
  {
   "cell_type": "markdown",
   "id": "ad4e41bb",
   "metadata": {},
   "source": [
    "## Plot the random walk"
   ]
  },
  {
   "cell_type": "code",
   "execution_count": null,
   "id": "8fd46576",
   "metadata": {},
   "outputs": [],
   "source": [
    "fig, ax = plt.subplots()\n",
    "ax.plot(np.arange(steps.size), steps)\n",
    "ax.set(xlabel='time', ylabel='amplitude', title='random walk')"
   ]
  },
  {
   "cell_type": "markdown",
   "id": "819d1241",
   "metadata": {},
   "source": [
    "## Apply the CWTMM technique"
   ]
  },
  {
   "cell_type": "code",
   "execution_count": null,
   "id": "2ac74f9a",
   "metadata": {},
   "outputs": [],
   "source": [
    "# Wavelet widths up to a maximum of (num time steps) / 2\n",
    "# logarithmically spaced\n",
    "num_widths = 1000\n",
    "wavelet_widths = 2 ** np.linspace(np.log2(1), np.log2(num_steps) / 2, num=num_widths)\n",
    "\n",
    "time = np.arange(steps.size)\n",
    "\n",
    "wmz = mm.Wtmmizer(\n",
    "    time_mids=time,\n",
    "    raw_signal=steps,\n",
    "    scales=wavelet_widths\n",
    ")"
   ]
  },
  {
   "cell_type": "markdown",
   "id": "cfbe9ae5",
   "metadata": {},
   "source": [
    "## Plot the wavelet transform after connecting modulus maxima"
   ]
  },
  {
   "cell_type": "code",
   "execution_count": null,
   "id": "a91d2d6e",
   "metadata": {},
   "outputs": [],
   "source": [
    "# See the function definition for more options\n",
    "wmz.connect_wavelet_modulus_maxima()"
   ]
  },
  {
   "cell_type": "code",
   "execution_count": null,
   "id": "01192323",
   "metadata": {},
   "outputs": [],
   "source": [
    "fig, ax = plt.subplots(figsize=(12, 6), layout='constrained')\n",
    "\n",
    "local_maxima_mask = wmz.maxima_connected()\n",
    "cwt_magnitude = wmz.modulus\n",
    "norm = mcol.SymLogNorm(linthresh=0.5, vmin=0, vmax=cwt_magnitude.max())\n",
    "\n",
    "cbar = cpl.plot_cwt_modulus_maxima(\n",
    "    wmz.time_mids,\n",
    "    wmz.scales,\n",
    "    cwt=wmz.cwt_matrix,\n",
    "    ax=ax,\n",
    "    fig=fig,\n",
    "    mm=local_maxima_mask,\n",
    "    mm_color='red',\n",
    "    cmap='bone',\n",
    "    norm=norm\n",
    ")\n",
    "\n",
    "cbar.set_label('wavelet transform magnitude')\n",
    "ax.set(yscale='log', xlabel='time', ylabel='wavelet scale', title='WTMM')\n",
    "plt.show()"
   ]
  },
  {
   "cell_type": "markdown",
   "id": "f93f688c",
   "metadata": {},
   "source": [
    "## Compute the multifractal exponents"
   ]
  },
  {
   "cell_type": "code",
   "execution_count": null,
   "id": "505d6b1d",
   "metadata": {},
   "outputs": [],
   "source": [
    "# Moments at which you want to compute the multifractal spectrum\n",
    "moments = np.linspace(-8, 8, num=50)\n",
    "\n",
    "wmz.compute_multifractal(moments)"
   ]
  },
  {
   "cell_type": "markdown",
   "id": "beb90da5",
   "metadata": {},
   "source": [
    "## Plot the multifractal spectra"
   ]
  },
  {
   "cell_type": "code",
   "execution_count": null,
   "id": "56c13e72",
   "metadata": {},
   "outputs": [],
   "source": [
    "fig, ax = plt.subplots(figsize=(4, 3), layout='constrained')\n",
    "\n",
    "cpl.plot_multifractal(\n",
    "    hoelder=wmz.multifractals.hoelder.true,\n",
    "    hausdorff=wmz.multifractals.hausdorff.true,\n",
    "    ax=ax\n",
    ")\n",
    "\n",
    "ax.set(\n",
    "    xlabel='Hölder exponent',\n",
    "    ylabel='Hausdorff dimension',\n",
    "    title='Timeseries multifractal spectrum',\n",
    "    xlim=(0, 2),\n",
    "    ylim=(1e-5, 1.5)\n",
    ")\n",
    "\n",
    "plt.show()"
   ]
  },
  {
   "cell_type": "markdown",
   "id": "1e93c679",
   "metadata": {},
   "source": [
    "## Try changing the flip probability above.\n",
    "## The multifractal spectrum should move to the right (larger prob) or left (smaller prob)"
   ]
  },
  {
   "cell_type": "code",
   "execution_count": null,
   "id": "192c8aed",
   "metadata": {},
   "outputs": [],
   "source": []
  }
 ],
 "metadata": {
  "kernelspec": {
   "display_name": "Python 3 (ipykernel)",
   "language": "python",
   "name": "python3"
  },
  "language_info": {
   "codemirror_mode": {
    "name": "ipython",
    "version": 3
   },
   "file_extension": ".py",
   "mimetype": "text/x-python",
   "name": "python",
   "nbconvert_exporter": "python",
   "pygments_lexer": "ipython3",
   "version": "3.11.0"
  }
 },
 "nbformat": 4,
 "nbformat_minor": 5
}
